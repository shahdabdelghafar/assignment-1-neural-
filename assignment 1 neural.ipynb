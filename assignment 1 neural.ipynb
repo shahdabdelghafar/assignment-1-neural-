{
 "cells": [
  {
   "cell_type": "code",
   "execution_count": 3,
   "id": "8e8e3751",
   "metadata": {},
   "outputs": [
    {
     "name": "stdout",
     "output_type": "stream",
     "text": [
      "h1 = 0.4835\n",
      "h2 = 0.4949\n",
      "o1 = 0.8062\n",
      "o2 = 0.8379\n",
      "Total Error = 0.260935\n"
     ]
    }
   ],
   "source": [
    "import numpy as np\n",
    "\n",
    "# Activation function\n",
    "def activation(x):\n",
    "    return np.tanh(x)\n",
    "\n",
    "# Inputs\n",
    "i1, i2 = 0.05, 0.10\n",
    "\n",
    "# Weights & Biases\n",
    "w = [0.15, 0.20, 0.25, 0.30, 0.40, 0.45, 0.50, 0.55]\n",
    "b1, b2 = 0.5, 0.7\n",
    "\n",
    "# Hidden layer\n",
    "h1 = activation(i1 * w[0] + i2 * w[1] + b1)\n",
    "h2 = activation(i1 * w[2] + i2 * w[3] + b1)\n",
    "\n",
    "# Output layer\n",
    "o1 = activation(h1 * w[4] + h2 * w[5] + b2)\n",
    "o2 = activation(h1 * w[6] + h2 * w[7] + b2)\n",
    "\n",
    "# Targets\n",
    "t1, t2 = 0.1, 0.99\n",
    "\n",
    "# Error Calculation\n",
    "Eo1 = 0.5 * (t1 - o1) ** 2\n",
    "Eo2 = 0.5 * (t2 - o2) ** 2\n",
    "E_total = Eo1 + Eo2\n",
    "\n",
    "# Print results\n",
    "print(\"h1 =\", round(h1, 4))\n",
    "print(\"h2 =\", round(h2, 4))\n",
    "print(\"o1 =\", round(o1, 4))\n",
    "print(\"o2 =\", round(o2, 4))\n",
    "print(\"Total Error =\", round(E_total, 6))\n"
   ]
  },
  {
   "cell_type": "code",
   "execution_count": null,
   "id": "745d0a6d",
   "metadata": {},
   "outputs": [],
   "source": []
  }
 ],
 "metadata": {
  "kernelspec": {
   "display_name": "Python 3 (ipykernel)",
   "language": "python",
   "name": "python3"
  },
  "language_info": {
   "codemirror_mode": {
    "name": "ipython",
    "version": 3
   },
   "file_extension": ".py",
   "mimetype": "text/x-python",
   "name": "python",
   "nbconvert_exporter": "python",
   "pygments_lexer": "ipython3",
   "version": "3.9.13"
  }
 },
 "nbformat": 4,
 "nbformat_minor": 5
}
